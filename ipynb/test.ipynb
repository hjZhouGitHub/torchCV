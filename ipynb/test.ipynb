{
 "cells": [
  {
   "cell_type": "code",
   "execution_count": 8,
   "metadata": {},
   "outputs": [],
   "source": [
    "train = dict(\n",
    "    # Directory where output files are written to\n",
    "    output_dir=\"./output\",\n",
    "    # The initialize checkpoint to be loaded\n",
    "    init_checkpoint=\"\",\n",
    "    # The total training iterations\n",
    "    max_iter=90000,)"
   ]
  },
  {
   "cell_type": "code",
   "execution_count": 6,
   "metadata": {},
   "outputs": [],
   "source": [
    "from easydict import EasyDict"
   ]
  },
  {
   "cell_type": "code",
   "execution_count": 9,
   "metadata": {},
   "outputs": [
    {
     "data": {
      "text/plain": [
       "'./output'"
      ]
     },
     "execution_count": 9,
     "metadata": {},
     "output_type": "execute_result"
    }
   ],
   "source": [
    "x = EasyDict(dict(\n",
    "    # Directory where output files are written to\n",
    "    output_dir=\"./output\",\n",
    "    # The initialize checkpoint to be loaded\n",
    "    init_checkpoint=\"\",\n",
    "    # The total training iterations\n",
    "    max_iter=90000,))\n",
    "x.output_dir"
   ]
  },
  {
   "cell_type": "code",
   "execution_count": 16,
   "metadata": {},
   "outputs": [],
   "source": [
    "transform_hyp = EasyDict(dict(\n",
    "    ## RandomHSV\n",
    "    hsv_h=0.015, # (float) image HSV-Hue augmentation (fraction)\n",
    "    hsv_s=0.7, # (float) image HSV-Saturation augmentation (fraction)\n",
    "    hsv_v=0.4, # (float) image HSV-Value augmentation (fraction)\n",
    "    ## RandomPerspective\n",
    "    degrees=0.0, # (float) image rotation (+/- deg)\n",
    "    translate=0.1, # (float) image translation (+/- fraction)\n",
    "    scale=0.5, # (float) image scale (+/- gain)\n",
    "    shear=0.0, # (float) image shear (+/- deg)\n",
    "    perspective=0.0, # (float) image perspective (+/- fraction), range 0-0.001\n",
    "    ## RandomFlip\n",
    "    flipud=0.0, # (float) image flip up-down (probability)\n",
    "    fliplr=0.5, # (float) image flip left-right (probability)\n",
    "    ## mixtransform\n",
    "    mosaic=1.0, # (float) image mosaic (probability)\n",
    "    mixup=0.0, # (float) image mixup (probability)\n",
    "    copy_paste=0.0, # (float) segment copy-paste (probability)\n",
    "    ## Format Segmentation\n",
    "    overlap_mask=True, # (bool) masks should overlap during training (segment train only)\n",
    "    mask_ratio=4, # (int) mask downsample ratio (segment train only)\n",
    "    ## classification\n",
    "    # auto_augment=randaugment, # (str) auto augmentation policy for classification (randaugment, autoaugment, augmix)\n",
    "    # erasing=0.4, # (float) probability of random erasing during classification training (0-1)\n",
    "    # crop_fraction=1.0, # (float) image crop fraction for classification evaluation/inference (0-1)\n",
    "))"
   ]
  },
  {
   "cell_type": "code",
   "execution_count": null,
   "metadata": {},
   "outputs": [],
   "source": []
  },
  {
   "cell_type": "code",
   "execution_count": null,
   "metadata": {},
   "outputs": [],
   "source": []
  }
 ],
 "metadata": {
  "kernelspec": {
   "display_name": "Python 3",
   "language": "python",
   "name": "python3"
  },
  "language_info": {
   "codemirror_mode": {
    "name": "ipython",
    "version": 3
   },
   "file_extension": ".py",
   "mimetype": "text/x-python",
   "name": "python",
   "nbconvert_exporter": "python",
   "pygments_lexer": "ipython3",
   "version": "3.7.0"
  }
 },
 "nbformat": 4,
 "nbformat_minor": 2
}
